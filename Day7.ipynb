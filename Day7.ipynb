{
 "cells": [
  {
   "cell_type": "markdown",
   "metadata": {},
   "source": [
    "## Day 7\n",
    "## 31st May 2019\n",
    "## Koduganti Lakshmi bhargavi\n",
    "## Internship"
   ]
  },
  {
   "cell_type": "code",
   "execution_count": 1,
   "metadata": {},
   "outputs": [],
   "source": [
    "## Problem\n",
    "### Problem Statement"
   ]
  },
  {
   "cell_type": "markdown",
   "metadata": {},
   "source": [
    "## Problem 1\n",
    "### Problem Statement\n",
    "How many runs of  Dhoni  On 4/23/2008  Chennai Super Kings vs Mumbai Indians Match ( Use Oops concepts)\n",
    "\n",
    "Datasets: \n",
    "Match.csv => Match details (match id , teams, location etc) \n",
    "\tPlayer.csv => Player Details (player id, name,team name, etc)\n",
    "\tBall_By_Ball => Ball to ball details (match id , striker, runs, over id, ball id etc)\n"
   ]
  },
  {
   "cell_type": "code",
   "execution_count": 6,
   "metadata": {},
   "outputs": [
    {
     "name": "stdout",
     "output_type": "stream",
     "text": [
      "The number of runs scored by Dhoni are 30\n"
     ]
    }
   ],
   "source": [
    "import pandas as pd\n",
    "import numpy as np\n",
    "class Match():\n",
    "    def Date():\n",
    "        df=pd.read_csv('datafiles/Match.csv')\n",
    "        for row in df.values:\n",
    "            if row[4]=='4/23/2008':\n",
    "                return row[1]\n",
    "    def Dhoni():\n",
    "        df=pd.read_csv('datafiles/Player.csv')\n",
    "        for row in df.values:\n",
    "            if row[2]=='MS Dhoni':\n",
    "                return row[1]\n",
    "    def Runs():\n",
    "        df=pd.read_csv('datafiles/Ball_By_Ball.csv')\n",
    "        mid=Match.Date()\n",
    "        did=Match.Dhoni()\n",
    "        sum1=0\n",
    "        for row  in df.values:\n",
    "            if mid==row[0] and did==row[29]:\n",
    "                sum1=sum1+row[8]\n",
    "        return sum1\n",
    "print('The number of runs scored by Dhoni are',Match.Runs())"
   ]
  },
  {
   "cell_type": "markdown",
   "metadata": {},
   "source": [
    "## Problem 2\n",
    "### Problem Statement\n",
    "4/23/2008  Chennai Super Kings vs Mumbai Indians Match\n",
    "Plot a bar graph for all the players in the   Mumbai Indians  team\n"
   ]
  },
  {
   "cell_type": "code",
   "execution_count": 60,
   "metadata": {},
   "outputs": [
    {
     "data": {
      "image/png": "[encoded data removed]",
      "text/plain": [
       "<matplotlib.figure.Figure at 0x1d0954a5ac8>"
      ]
     },
     "metadata": {},
     "output_type": "display_data"
    }
   ],
   "source": [
    "import pandas as pd\n",
    "import matplotlib.pyplot as plt\n",
    "class MI():\n",
    "    def match():\n",
    "        df=pd.read_csv('datafiles/Match.csv')\n",
    "        for i in df.values:\n",
    "            if i[4]=='4/23/2008':\n",
    "                return i[1]\n",
    "    def Players():\n",
    "        df=pd.read_csv('datafiles/Player_match.csv')\n",
    "        mid=MI.match()\n",
    "        players=[]\n",
    "        for i in df.values:\n",
    "            if mid==i[2] and  i[10]=='Mumbai Indians':\n",
    "                players.append(i[4])\n",
    "        return players \n",
    "    def playerid():\n",
    "        df=pd.read_csv('datafiles/Player_match.csv')\n",
    "        mid=MI.match()\n",
    "        playerid=[]\n",
    "        for i in df.values:\n",
    "            if mid==i[2] and  i[10]=='Mumbai Indians':\n",
    "                playerid.append(i[3])\n",
    "        return playerid\n",
    "    def Runs():\n",
    "        df=pd.read_csv('datafiles/Ball_By_Ball.csv')\n",
    "        mid=MI.match()\n",
    "        pid=MI.playerid()\n",
    "        runs=[]\n",
    "        for i in pid:\n",
    "            sum1=0\n",
    "            for row in df.values:\n",
    "                if mid==row[0] and i==row[29]:\n",
    "                    sum1=sum1+row[8]\n",
    "            runs.append(sum1)\n",
    "        return runs\n",
    "    def bargraph():\n",
    "        x=MI.Players()\n",
    "        y=MI.Runs()\n",
    "        width=1/2\n",
    "        plt.xticks(rotation=60)\n",
    "        plt.bar(x,y,width,color='Indigo')\n",
    "        plt.title('Mumbai Indians each player runs')\n",
    "        plt.xlabel('Player Names')\n",
    "        plt.ylabel('Runs of each player')\n",
    "        plt.show() \n",
    "MI.bargraph()      "
   ]
  },
  {
   "cell_type": "code",
   "execution_count": null,
   "metadata": {},
   "outputs": [],
   "source": []
  }
 ],
 "metadata": {
  "kernelspec": {
   "display_name": "Python 3",
   "language": "python",
   "name": "python3"
  },
  "language_info": {
   "codemirror_mode": {
    "name": "ipython",
    "version": 3
   },
   "file_extension": ".py",
   "mimetype": "text/x-python",
   "name": "python",
   "nbconvert_exporter": "python",
   "pygments_lexer": "ipython3",
   "version": "3.6.4"
  }
 },
 "nbformat": 4,
 "nbformat_minor": 2
}
